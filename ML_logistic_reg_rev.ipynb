{
 "cells": [
  {
   "cell_type": "code",
   "execution_count": 1,
   "metadata": {},
   "outputs": [],
   "source": [
    "# wget https://github.com/ianchen06/pythonetl/raw/master/install_gcin.sh && sudo sh ./install_gcin.sh   #Linux, Ubuntu中執行顯示中文字"
   ]
  },
  {
   "cell_type": "markdown",
   "metadata": {},
   "source": [
    "# Dataset "
   ]
  },
  {
   "cell_type": "code",
   "execution_count": 1,
   "metadata": {},
   "outputs": [
    {
     "data": {
      "text/html": [
       "<div>\n",
       "<style scoped>\n",
       "    .dataframe tbody tr th:only-of-type {\n",
       "        vertical-align: middle;\n",
       "    }\n",
       "\n",
       "    .dataframe tbody tr th {\n",
       "        vertical-align: top;\n",
       "    }\n",
       "\n",
       "    .dataframe thead th {\n",
       "        text-align: right;\n",
       "    }\n",
       "</style>\n",
       "<table border=\"1\" class=\"dataframe\">\n",
       "  <thead>\n",
       "    <tr style=\"text-align: right;\">\n",
       "      <th></th>\n",
       "      <th>花萼長度</th>\n",
       "      <th>花萼寬度</th>\n",
       "      <th>花瓣長度</th>\n",
       "      <th>花瓣寬度</th>\n",
       "      <th>屬種</th>\n",
       "    </tr>\n",
       "  </thead>\n",
       "  <tbody>\n",
       "    <tr>\n",
       "      <th>0</th>\n",
       "      <td>5.1</td>\n",
       "      <td>3.5</td>\n",
       "      <td>1.4</td>\n",
       "      <td>0.2</td>\n",
       "      <td>Iris-setosa</td>\n",
       "    </tr>\n",
       "    <tr>\n",
       "      <th>1</th>\n",
       "      <td>4.9</td>\n",
       "      <td>3.0</td>\n",
       "      <td>1.4</td>\n",
       "      <td>0.2</td>\n",
       "      <td>Iris-setosa</td>\n",
       "    </tr>\n",
       "    <tr>\n",
       "      <th>2</th>\n",
       "      <td>4.7</td>\n",
       "      <td>3.2</td>\n",
       "      <td>1.3</td>\n",
       "      <td>0.2</td>\n",
       "      <td>Iris-setosa</td>\n",
       "    </tr>\n",
       "    <tr>\n",
       "      <th>3</th>\n",
       "      <td>4.6</td>\n",
       "      <td>3.1</td>\n",
       "      <td>1.5</td>\n",
       "      <td>0.2</td>\n",
       "      <td>Iris-setosa</td>\n",
       "    </tr>\n",
       "    <tr>\n",
       "      <th>4</th>\n",
       "      <td>5.0</td>\n",
       "      <td>3.6</td>\n",
       "      <td>1.4</td>\n",
       "      <td>0.2</td>\n",
       "      <td>Iris-setosa</td>\n",
       "    </tr>\n",
       "  </tbody>\n",
       "</table>\n",
       "</div>"
      ],
      "text/plain": [
       "   花萼長度  花萼寬度  花瓣長度  花瓣寬度           屬種\n",
       "0   5.1   3.5   1.4   0.2  Iris-setosa\n",
       "1   4.9   3.0   1.4   0.2  Iris-setosa\n",
       "2   4.7   3.2   1.3   0.2  Iris-setosa\n",
       "3   4.6   3.1   1.5   0.2  Iris-setosa\n",
       "4   5.0   3.6   1.4   0.2  Iris-setosa"
      ]
     },
     "execution_count": 1,
     "metadata": {},
     "output_type": "execute_result"
    }
   ],
   "source": [
    "import pandas as pd\n",
    "df = pd.read_csv(\"iris.csv\", encoding = \"big5\")\n",
    "df.head()"
   ]
  },
  {
   "cell_type": "code",
   "execution_count": 8,
   "metadata": {
    "scrolled": false
   },
   "outputs": [
    {
     "data": {
      "text/plain": [
       "(150, 5)"
      ]
     },
     "execution_count": 8,
     "metadata": {},
     "output_type": "execute_result"
    }
   ],
   "source": [
    "df.shape  #筆數,欄位  len(df)"
   ]
  },
  {
   "cell_type": "code",
   "execution_count": 3,
   "metadata": {},
   "outputs": [
    {
     "data": {
      "text/html": [
       "<div>\n",
       "<style scoped>\n",
       "    .dataframe tbody tr th:only-of-type {\n",
       "        vertical-align: middle;\n",
       "    }\n",
       "\n",
       "    .dataframe tbody tr th {\n",
       "        vertical-align: top;\n",
       "    }\n",
       "\n",
       "    .dataframe thead th {\n",
       "        text-align: right;\n",
       "    }\n",
       "</style>\n",
       "<table border=\"1\" class=\"dataframe\">\n",
       "  <thead>\n",
       "    <tr style=\"text-align: right;\">\n",
       "      <th></th>\n",
       "      <th>花萼長度</th>\n",
       "      <th>花萼寬度</th>\n",
       "      <th>花瓣長度</th>\n",
       "      <th>花瓣寬度</th>\n",
       "    </tr>\n",
       "  </thead>\n",
       "  <tbody>\n",
       "    <tr>\n",
       "      <th>花萼長度</th>\n",
       "      <td>1.000000</td>\n",
       "      <td>-0.109369</td>\n",
       "      <td>0.871754</td>\n",
       "      <td>0.817954</td>\n",
       "    </tr>\n",
       "    <tr>\n",
       "      <th>花萼寬度</th>\n",
       "      <td>-0.109369</td>\n",
       "      <td>1.000000</td>\n",
       "      <td>-0.420516</td>\n",
       "      <td>-0.356544</td>\n",
       "    </tr>\n",
       "    <tr>\n",
       "      <th>花瓣長度</th>\n",
       "      <td>0.871754</td>\n",
       "      <td>-0.420516</td>\n",
       "      <td>1.000000</td>\n",
       "      <td>0.962757</td>\n",
       "    </tr>\n",
       "    <tr>\n",
       "      <th>花瓣寬度</th>\n",
       "      <td>0.817954</td>\n",
       "      <td>-0.356544</td>\n",
       "      <td>0.962757</td>\n",
       "      <td>1.000000</td>\n",
       "    </tr>\n",
       "  </tbody>\n",
       "</table>\n",
       "</div>"
      ],
      "text/plain": [
       "          花萼長度      花萼寬度      花瓣長度      花瓣寬度\n",
       "花萼長度  1.000000 -0.109369  0.871754  0.817954\n",
       "花萼寬度 -0.109369  1.000000 -0.420516 -0.356544\n",
       "花瓣長度  0.871754 -0.420516  1.000000  0.962757\n",
       "花瓣寬度  0.817954 -0.356544  0.962757  1.000000"
      ]
     },
     "execution_count": 3,
     "metadata": {},
     "output_type": "execute_result"
    }
   ],
   "source": [
    "df.corr()  #各欄位相關,維度高先FA"
   ]
  },
  {
   "cell_type": "markdown",
   "metadata": {},
   "source": [
    "# Sigmoid Function"
   ]
  },
  {
   "cell_type": "code",
   "execution_count": 5,
   "metadata": {},
   "outputs": [],
   "source": [
    "import numpy as np\n",
    "\n",
    "def sigmoid(L):\n",
    "    return 1/(1 + np.exp(-L))  #np.exp"
   ]
  },
  {
   "cell_type": "code",
   "execution_count": 6,
   "metadata": {},
   "outputs": [
    {
     "data": {
      "image/png": "[encoded data removed]",
      "text/plain": [
       "<Figure size 432x288 with 1 Axes>"
      ]
     },
     "metadata": {},
     "output_type": "display_data"
    }
   ],
   "source": [
    "#sigmoid曲線\n",
    "import matplotlib.pyplot as plt\n",
    "%matplotlib inline\n",
    "plt.style.use('ggplot')\n",
    "\n",
    "L = np.arange(-8,8,0.1)  #x-axis\n",
    "P = sigmoid(L)  #y-axis\n",
    "plt.plot(L,P)\n",
    "plt.show()"
   ]
  },
  {
   "cell_type": "markdown",
   "metadata": {},
   "source": [
    "# train, test (X,y)"
   ]
  },
  {
   "cell_type": "code",
   "execution_count": 16,
   "metadata": {},
   "outputs": [],
   "source": [
    "from sklearn.model_selection import train_test_split  #先在prompt pip install sklearn"
   ]
  },
  {
   "cell_type": "code",
   "execution_count": 17,
   "metadata": {},
   "outputs": [
    {
     "data": {
      "text/html": [
       "<div>\n",
       "<style scoped>\n",
       "    .dataframe tbody tr th:only-of-type {\n",
       "        vertical-align: middle;\n",
       "    }\n",
       "\n",
       "    .dataframe tbody tr th {\n",
       "        vertical-align: top;\n",
       "    }\n",
       "\n",
       "    .dataframe thead th {\n",
       "        text-align: right;\n",
       "    }\n",
       "</style>\n",
       "<table border=\"1\" class=\"dataframe\">\n",
       "  <thead>\n",
       "    <tr style=\"text-align: right;\">\n",
       "      <th></th>\n",
       "      <th>花萼長度</th>\n",
       "      <th>花萼寬度</th>\n",
       "    </tr>\n",
       "  </thead>\n",
       "  <tbody>\n",
       "    <tr>\n",
       "      <th>0</th>\n",
       "      <td>5.1</td>\n",
       "      <td>3.5</td>\n",
       "    </tr>\n",
       "    <tr>\n",
       "      <th>1</th>\n",
       "      <td>4.9</td>\n",
       "      <td>3.0</td>\n",
       "    </tr>\n",
       "    <tr>\n",
       "      <th>2</th>\n",
       "      <td>4.7</td>\n",
       "      <td>3.2</td>\n",
       "    </tr>\n",
       "    <tr>\n",
       "      <th>3</th>\n",
       "      <td>4.6</td>\n",
       "      <td>3.1</td>\n",
       "    </tr>\n",
       "    <tr>\n",
       "      <th>4</th>\n",
       "      <td>5.0</td>\n",
       "      <td>3.6</td>\n",
       "    </tr>\n",
       "  </tbody>\n",
       "</table>\n",
       "</div>"
      ],
      "text/plain": [
       "   花萼長度  花萼寬度\n",
       "0   5.1   3.5\n",
       "1   4.9   3.0\n",
       "2   4.7   3.2\n",
       "3   4.6   3.1\n",
       "4   5.0   3.6"
      ]
     },
     "execution_count": 17,
     "metadata": {},
     "output_type": "execute_result"
    }
   ],
   "source": [
    "X = df[['花萼長度','花萼寬度']]\n",
    "X.head()"
   ]
  },
  {
   "cell_type": "code",
   "execution_count": 18,
   "metadata": {},
   "outputs": [
    {
     "data": {
      "text/html": [
       "<div>\n",
       "<style scoped>\n",
       "    .dataframe tbody tr th:only-of-type {\n",
       "        vertical-align: middle;\n",
       "    }\n",
       "\n",
       "    .dataframe tbody tr th {\n",
       "        vertical-align: top;\n",
       "    }\n",
       "\n",
       "    .dataframe thead th {\n",
       "        text-align: right;\n",
       "    }\n",
       "</style>\n",
       "<table border=\"1\" class=\"dataframe\">\n",
       "  <thead>\n",
       "    <tr style=\"text-align: right;\">\n",
       "      <th></th>\n",
       "      <th>屬種</th>\n",
       "    </tr>\n",
       "  </thead>\n",
       "  <tbody>\n",
       "    <tr>\n",
       "      <th>0</th>\n",
       "      <td>Iris-setosa</td>\n",
       "    </tr>\n",
       "    <tr>\n",
       "      <th>1</th>\n",
       "      <td>Iris-setosa</td>\n",
       "    </tr>\n",
       "    <tr>\n",
       "      <th>2</th>\n",
       "      <td>Iris-setosa</td>\n",
       "    </tr>\n",
       "    <tr>\n",
       "      <th>3</th>\n",
       "      <td>Iris-setosa</td>\n",
       "    </tr>\n",
       "    <tr>\n",
       "      <th>4</th>\n",
       "      <td>Iris-setosa</td>\n",
       "    </tr>\n",
       "  </tbody>\n",
       "</table>\n",
       "</div>"
      ],
      "text/plain": [
       "            屬種\n",
       "0  Iris-setosa\n",
       "1  Iris-setosa\n",
       "2  Iris-setosa\n",
       "3  Iris-setosa\n",
       "4  Iris-setosa"
      ]
     },
     "execution_count": 18,
     "metadata": {},
     "output_type": "execute_result"
    }
   ],
   "source": [
    "y = df[['屬種']]   #[]Series,[[]]DataFrame\n",
    "type(y)\n",
    "y.head()"
   ]
  },
  {
   "cell_type": "code",
   "execution_count": 19,
   "metadata": {},
   "outputs": [
    {
     "data": {
      "text/plain": [
       "[     花萼長度  花萼寬度\n",
       " 44    5.1   3.8\n",
       " 80    5.5   2.4\n",
       " 92    5.8   2.6\n",
       " 91    6.1   3.0\n",
       " 61    5.9   3.0\n",
       " 63    6.1   2.9\n",
       " 43    5.0   3.5\n",
       " 137   6.4   3.1\n",
       " 83    6.0   2.7\n",
       " 36    5.5   3.5\n",
       " 135   7.7   3.0\n",
       " 90    5.5   2.6\n",
       " 47    4.6   3.2\n",
       " 136   6.3   3.4\n",
       " 130   7.4   2.8\n",
       " 77    6.7   3.0\n",
       " 113   5.7   2.5\n",
       " 107   7.3   2.9\n",
       " 100   6.3   3.3\n",
       " 9     4.9   3.1\n",
       " 87    6.3   2.3\n",
       " 51    6.4   3.2\n",
       " 81    5.5   2.4\n",
       " 23    5.1   3.3\n",
       " 21    5.1   3.7\n",
       " 60    5.0   2.0\n",
       " 66    5.6   3.0\n",
       " 19    5.1   3.8\n",
       " 56    6.3   3.3\n",
       " 41    4.5   2.3\n",
       " ..    ...   ...\n",
       " 108   6.7   2.5\n",
       " 37    4.9   3.1\n",
       " 85    6.0   3.4\n",
       " 22    4.6   3.6\n",
       " 123   6.3   2.7\n",
       " 30    4.8   3.1\n",
       " 11    4.8   3.4\n",
       " 139   6.9   3.1\n",
       " 101   5.8   2.7\n",
       " 84    5.4   3.0\n",
       " 127   6.1   3.0\n",
       " 125   7.2   3.2\n",
       " 94    5.6   2.7\n",
       " 145   6.7   3.0\n",
       " 57    4.9   2.4\n",
       " 49    5.0   3.3\n",
       " 119   6.0   2.2\n",
       " 28    5.2   3.4\n",
       " 59    5.2   2.7\n",
       " 133   6.3   2.8\n",
       " 142   5.8   2.7\n",
       " 71    6.1   2.8\n",
       " 62    6.0   2.2\n",
       " 31    5.4   3.4\n",
       " 88    5.6   3.0\n",
       " 4     5.0   3.6\n",
       " 79    5.7   2.6\n",
       " 34    4.9   3.1\n",
       " 75    6.6   3.0\n",
       " 68    6.2   2.2\n",
       " \n",
       " [105 rows x 2 columns],      花萼長度  花萼寬度\n",
       " 122   7.7   2.8\n",
       " 55    5.7   2.8\n",
       " 13    4.3   3.0\n",
       " 82    5.8   2.7\n",
       " 117   7.7   3.8\n",
       " 98    5.1   2.5\n",
       " 147   6.5   3.0\n",
       " 17    5.1   3.5\n",
       " 70    5.9   3.2\n",
       " 74    6.4   2.9\n",
       " 69    5.6   2.5\n",
       " 48    5.3   3.7\n",
       " 149   5.9   3.0\n",
       " 148   6.2   3.4\n",
       " 45    4.8   3.0\n",
       " 8     4.4   2.9\n",
       " 89    5.5   2.5\n",
       " 128   6.4   2.8\n",
       " 97    6.2   2.9\n",
       " 76    6.8   2.8\n",
       " 42    4.4   3.2\n",
       " 64    5.6   2.9\n",
       " 26    5.0   3.4\n",
       " 134   6.1   2.6\n",
       " 54    6.5   2.8\n",
       " 120   6.9   3.2\n",
       " 95    5.7   3.0\n",
       " 53    5.5   2.3\n",
       " 0     5.1   3.5\n",
       " 24    4.8   3.4\n",
       " 50    7.0   3.2\n",
       " 67    5.8   2.7\n",
       " 143   6.8   3.2\n",
       " 6     4.6   3.4\n",
       " 35    5.0   3.2\n",
       " 93    5.0   2.3\n",
       " 72    6.3   2.5\n",
       " 110   6.5   3.2\n",
       " 5     5.4   3.9\n",
       " 39    5.1   3.4\n",
       " 20    5.4   3.4\n",
       " 99    5.7   2.8\n",
       " 114   5.8   2.8\n",
       " 116   6.5   3.0\n",
       " 115   6.4   3.2,                   屬種\n",
       " 44       Iris-setosa\n",
       " 80   Iris-versicolor\n",
       " 92   Iris-versicolor\n",
       " 91   Iris-versicolor\n",
       " 61   Iris-versicolor\n",
       " 63   Iris-versicolor\n",
       " 43       Iris-setosa\n",
       " 137   Iris-virginica\n",
       " 83   Iris-versicolor\n",
       " 36       Iris-setosa\n",
       " 135   Iris-virginica\n",
       " 90   Iris-versicolor\n",
       " 47       Iris-setosa\n",
       " 136   Iris-virginica\n",
       " 130   Iris-virginica\n",
       " 77   Iris-versicolor\n",
       " 113   Iris-virginica\n",
       " 107   Iris-virginica\n",
       " 100   Iris-virginica\n",
       " 9        Iris-setosa\n",
       " 87   Iris-versicolor\n",
       " 51   Iris-versicolor\n",
       " 81   Iris-versicolor\n",
       " 23       Iris-setosa\n",
       " 21       Iris-setosa\n",
       " 60   Iris-versicolor\n",
       " 66   Iris-versicolor\n",
       " 19       Iris-setosa\n",
       " 56   Iris-versicolor\n",
       " 41       Iris-setosa\n",
       " ..               ...\n",
       " 108   Iris-virginica\n",
       " 37       Iris-setosa\n",
       " 85   Iris-versicolor\n",
       " 22       Iris-setosa\n",
       " 123   Iris-virginica\n",
       " 30       Iris-setosa\n",
       " 11       Iris-setosa\n",
       " 139   Iris-virginica\n",
       " 101   Iris-virginica\n",
       " 84   Iris-versicolor\n",
       " 127   Iris-virginica\n",
       " 125   Iris-virginica\n",
       " 94   Iris-versicolor\n",
       " 145   Iris-virginica\n",
       " 57   Iris-versicolor\n",
       " 49       Iris-setosa\n",
       " 119   Iris-virginica\n",
       " 28       Iris-setosa\n",
       " 59   Iris-versicolor\n",
       " 133   Iris-virginica\n",
       " 142   Iris-virginica\n",
       " 71   Iris-versicolor\n",
       " 62   Iris-versicolor\n",
       " 31       Iris-setosa\n",
       " 88   Iris-versicolor\n",
       " 4        Iris-setosa\n",
       " 79   Iris-versicolor\n",
       " 34       Iris-setosa\n",
       " 75   Iris-versicolor\n",
       " 68   Iris-versicolor\n",
       " \n",
       " [105 rows x 1 columns],                   屬種\n",
       " 122   Iris-virginica\n",
       " 55   Iris-versicolor\n",
       " 13       Iris-setosa\n",
       " 82   Iris-versicolor\n",
       " 117   Iris-virginica\n",
       " 98   Iris-versicolor\n",
       " 147   Iris-virginica\n",
       " 17       Iris-setosa\n",
       " 70   Iris-versicolor\n",
       " 74   Iris-versicolor\n",
       " 69   Iris-versicolor\n",
       " 48       Iris-setosa\n",
       " 149   Iris-virginica\n",
       " 148   Iris-virginica\n",
       " 45       Iris-setosa\n",
       " 8        Iris-setosa\n",
       " 89   Iris-versicolor\n",
       " 128   Iris-virginica\n",
       " 97   Iris-versicolor\n",
       " 76   Iris-versicolor\n",
       " 42       Iris-setosa\n",
       " 64   Iris-versicolor\n",
       " 26       Iris-setosa\n",
       " 134   Iris-virginica\n",
       " 54   Iris-versicolor\n",
       " 120   Iris-virginica\n",
       " 95   Iris-versicolor\n",
       " 53   Iris-versicolor\n",
       " 0        Iris-setosa\n",
       " 24       Iris-setosa\n",
       " 50   Iris-versicolor\n",
       " 67   Iris-versicolor\n",
       " 143   Iris-virginica\n",
       " 6        Iris-setosa\n",
       " 35       Iris-setosa\n",
       " 93   Iris-versicolor\n",
       " 72   Iris-versicolor\n",
       " 110   Iris-virginica\n",
       " 5        Iris-setosa\n",
       " 39       Iris-setosa\n",
       " 20       Iris-setosa\n",
       " 99   Iris-versicolor\n",
       " 114   Iris-virginica\n",
       " 116   Iris-virginica\n",
       " 115   Iris-virginica]"
      ]
     },
     "execution_count": 19,
     "metadata": {},
     "output_type": "execute_result"
    }
   ],
   "source": [
    "#切分資料\n",
    "train_test_split(X,y, test_size = 0.3)   #先X再y, 本例資料只有150筆, 可用全部資料先跑一次"
   ]
  },
  {
   "cell_type": "code",
   "execution_count": 23,
   "metadata": {
    "scrolled": true
   },
   "outputs": [
    {
     "name": "stdout",
     "output_type": "stream",
     "text": [
      "(105, 2) (45, 2) (105, 1) (45, 1)\n"
     ]
    }
   ],
   "source": [
    "X_train, X_test, y_train, y_test = train_test_split(X,y, test_size = 0.3)  #令為左方變數\n",
    "\n",
    "print(X_train.shape, X_test.shape, y_train.shape, y_test.shape)"
   ]
  },
  {
   "cell_type": "markdown",
   "metadata": {},
   "source": [
    "# normalize (可選擇)"
   ]
  },
  {
   "cell_type": "code",
   "execution_count": 24,
   "metadata": {},
   "outputs": [
    {
     "data": {
      "text/plain": [
       "array([[-0.22625275,  2.7339916 ],\n",
       "       [-0.82515709,  0.62088741],\n",
       "       [ 0.7319942 ,  0.62088741],\n",
       "       [-1.06471883, -0.08348066],\n",
       "       [ 0.37265159, -0.31827001],\n",
       "       [-0.94493796,  0.1513087 ],\n",
       "       [ 0.25287072, -0.08348066],\n",
       "       [-0.82515709,  0.85567676],\n",
       "       [ 1.21111767, -0.08348066],\n",
       "       [-0.94493796, -1.49221679]])"
      ]
     },
     "execution_count": 24,
     "metadata": {},
     "output_type": "execute_result"
    }
   ],
   "source": [
    "from sklearn.preprocessing import StandardScaler\n",
    "\n",
    "#針對X_train\n",
    "sc = StandardScaler()  #開sc物件 \n",
    "sc.fit(X_train)  #開始中心化\n",
    "X_train_nor = sc.transform(X_train)  #標準化\n",
    "X_train_nor[:10]  #二維\n",
    "\n",
    "#針對X_test\n",
    "sc.fit(X_test)\n",
    "X_test_nor = sc.transform(X_test)\n",
    "X_test_nor[:10]"
   ]
  },
  {
   "cell_type": "markdown",
   "metadata": {},
   "source": [
    "# LogisticRegression"
   ]
  },
  {
   "cell_type": "code",
   "execution_count": 28,
   "metadata": {
    "scrolled": true
   },
   "outputs": [
    {
     "name": "stderr",
     "output_type": "stream",
     "text": [
      "C:\\Users\\user\\Anaconda3\\envs\\tensorflow_gpu\\lib\\site-packages\\sklearn\\linear_model\\logistic.py:433: FutureWarning: Default solver will be changed to 'lbfgs' in 0.22. Specify a solver to silence this warning.\n",
      "  FutureWarning)\n",
      "C:\\Users\\user\\Anaconda3\\envs\\tensorflow_gpu\\lib\\site-packages\\sklearn\\utils\\validation.py:761: DataConversionWarning: A column-vector y was passed when a 1d array was expected. Please change the shape of y to (n_samples, ), for example using ravel().\n",
      "  y = column_or_1d(y, warn=True)\n",
      "C:\\Users\\user\\Anaconda3\\envs\\tensorflow_gpu\\lib\\site-packages\\sklearn\\linear_model\\logistic.py:460: FutureWarning: Default multi_class will be changed to 'auto' in 0.22. Specify the multi_class option to silence this warning.\n",
      "  \"this warning.\", FutureWarning)\n"
     ]
    },
    {
     "data": {
      "text/plain": [
       "array(['Iris-setosa', 'Iris-versicolor', 'Iris-virginica',\n",
       "       'Iris-versicolor', 'Iris-virginica', 'Iris-versicolor',\n",
       "       'Iris-versicolor', 'Iris-setosa', 'Iris-setosa', 'Iris-setosa',\n",
       "       'Iris-versicolor', 'Iris-virginica', 'Iris-versicolor',\n",
       "       'Iris-virginica', 'Iris-setosa', 'Iris-setosa', 'Iris-virginica',\n",
       "       'Iris-setosa', 'Iris-setosa', 'Iris-virginica', 'Iris-setosa',\n",
       "       'Iris-versicolor', 'Iris-setosa', 'Iris-setosa', 'Iris-virginica',\n",
       "       'Iris-versicolor', 'Iris-setosa', 'Iris-virginica', 'Iris-setosa',\n",
       "       'Iris-setosa', 'Iris-virginica', 'Iris-virginica',\n",
       "       'Iris-virginica', 'Iris-versicolor', 'Iris-versicolor',\n",
       "       'Iris-virginica', 'Iris-setosa', 'Iris-virginica',\n",
       "       'Iris-versicolor', 'Iris-virginica', 'Iris-setosa',\n",
       "       'Iris-versicolor', 'Iris-virginica', 'Iris-virginica',\n",
       "       'Iris-virginica', 'Iris-setosa', 'Iris-setosa', 'Iris-versicolor',\n",
       "       'Iris-setosa', 'Iris-versicolor', 'Iris-versicolor',\n",
       "       'Iris-virginica', 'Iris-versicolor', 'Iris-virginica',\n",
       "       'Iris-virginica', 'Iris-setosa', 'Iris-virginica',\n",
       "       'Iris-virginica', 'Iris-virginica', 'Iris-setosa',\n",
       "       'Iris-versicolor', 'Iris-virginica', 'Iris-versicolor',\n",
       "       'Iris-versicolor', 'Iris-versicolor', 'Iris-setosa',\n",
       "       'Iris-versicolor', 'Iris-setosa', 'Iris-versicolor',\n",
       "       'Iris-virginica', 'Iris-setosa', 'Iris-virginica',\n",
       "       'Iris-virginica', 'Iris-virginica', 'Iris-setosa', 'Iris-setosa',\n",
       "       'Iris-virginica', 'Iris-versicolor', 'Iris-versicolor',\n",
       "       'Iris-virginica', 'Iris-versicolor', 'Iris-virginica',\n",
       "       'Iris-setosa', 'Iris-setosa', 'Iris-versicolor', 'Iris-virginica',\n",
       "       'Iris-setosa', 'Iris-setosa', 'Iris-setosa', 'Iris-versicolor',\n",
       "       'Iris-virginica', 'Iris-virginica', 'Iris-setosa',\n",
       "       'Iris-virginica', 'Iris-versicolor', 'Iris-virginica',\n",
       "       'Iris-setosa', 'Iris-virginica', 'Iris-virginica',\n",
       "       'Iris-versicolor', 'Iris-setosa', 'Iris-virginica',\n",
       "       'Iris-versicolor', 'Iris-versicolor', 'Iris-setosa'], dtype=object)"
      ]
     },
     "execution_count": 28,
     "metadata": {},
     "output_type": "execute_result"
    }
   ],
   "source": [
    "from sklearn.linear_model import LogisticRegression  \n",
    "\n",
    "#針對train\n",
    "lr = LogisticRegression()  #開logistic regression物件\n",
    "lr.fit(X_train_nor, y_train)  #開始建立預測式\n",
    "pred_y = lr.predict(X_train_nor)  #predict類別\n",
    "pred_y   #存成array,直接是類別名"
   ]
  },
  {
   "cell_type": "markdown",
   "metadata": {},
   "source": [
    "# Classification - train"
   ]
  },
  {
   "cell_type": "code",
   "execution_count": 30,
   "metadata": {},
   "outputs": [
    {
     "data": {
      "text/plain": [
       "array([-0.87354953,  0.77803372])"
      ]
     },
     "execution_count": 30,
     "metadata": {},
     "output_type": "execute_result"
    }
   ],
   "source": [
    "X_train_nor[i]"
   ]
  },
  {
   "cell_type": "code",
   "execution_count": 32,
   "metadata": {},
   "outputs": [
    {
     "data": {
      "text/plain": [
       "array([[-0.87354953,  0.77803372]])"
      ]
     },
     "execution_count": 32,
     "metadata": {},
     "output_type": "execute_result"
    }
   ],
   "source": [
    "X_train_nor[i].reshape(1,-1)  #每一筆資料先reshape"
   ]
  },
  {
   "cell_type": "code",
   "execution_count": 33,
   "metadata": {
    "scrolled": true
   },
   "outputs": [
    {
     "data": {
      "text/plain": [
       "array(['Iris-setosa'], dtype=object)"
      ]
     },
     "execution_count": 33,
     "metadata": {},
     "output_type": "execute_result"
    }
   ],
   "source": [
    "lr.predict(X_train_nor[i].reshape(1,-1))"
   ]
  },
  {
   "cell_type": "code",
   "execution_count": 29,
   "metadata": {},
   "outputs": [
    {
     "data": {
      "image/png": "[encoded data removed]",
      "text/plain": [
       "<Figure size 576x432 with 1 Axes>"
      ]
     },
     "metadata": {
      "needs_background": "light"
     },
     "output_type": "display_data"
    }
   ],
   "source": [
    "import matplotlib.pyplot as plt\n",
    "import matplotlib.patches as mpatches\n",
    "%matplotlib inline\n",
    "\n",
    "plt.figure(figsize=(8,6)) #開畫板\n",
    "#針對每筆資料,要令i進來迴圈中                                              \n",
    "for i in range(len(X_train_nor)):  \n",
    "    if(lr.predict(X_train_nor[i].reshape(1,-1))=='Iris-setosa'):    #先reset_index整個X_train後再抓同一筆[i]進來\n",
    "        plt.plot(X_train['花萼長度'].reset_index(drop=True)[i],X_train['花萼寬度'].reset_index(drop=True)[i],'b.')\n",
    "    elif(lr.predict(X_train_nor[i].reshape(1,-1))=='Iris-versicolor'):\n",
    "        plt.plot(X_train['花萼長度'].reset_index(drop=True)[i],X_train['花萼寬度'].reset_index(drop=True)[i],'gx')\n",
    "    else:\n",
    "        plt.plot(X_train['花萼長度'].reset_index(drop=True)[i],X_train['花萼寬度'].reset_index(drop=True)[i],'r+')\n",
    "        \n",
    "#標註\n",
    "blue_patch = mpatches.Patch(color='blue', label='Iris-setosa')\n",
    "green_patch = mpatches.Patch(color='green', label='Iris-versicolor')\n",
    "red_patch = mpatches.Patch(color='red', label='Iris-virginica')\n",
    "plt.legend(handles=[blue_patch,green_patch,red_patch])        \n",
    "plt.show()"
   ]
  },
  {
   "cell_type": "code",
   "execution_count": 34,
   "metadata": {},
   "outputs": [
    {
     "name": "stderr",
     "output_type": "stream",
     "text": [
      "C:\\Users\\user\\Anaconda3\\envs\\tensorflow_gpu\\lib\\site-packages\\sklearn\\linear_model\\logistic.py:433: FutureWarning: Default solver will be changed to 'lbfgs' in 0.22. Specify a solver to silence this warning.\n",
      "  FutureWarning)\n",
      "C:\\Users\\user\\Anaconda3\\envs\\tensorflow_gpu\\lib\\site-packages\\sklearn\\utils\\validation.py:761: DataConversionWarning: A column-vector y was passed when a 1d array was expected. Please change the shape of y to (n_samples, ), for example using ravel().\n",
      "  y = column_or_1d(y, warn=True)\n",
      "C:\\Users\\user\\Anaconda3\\envs\\tensorflow_gpu\\lib\\site-packages\\sklearn\\linear_model\\logistic.py:460: FutureWarning: Default multi_class will be changed to 'auto' in 0.22. Specify the multi_class option to silence this warning.\n",
      "  \"this warning.\", FutureWarning)\n"
     ]
    },
    {
     "data": {
      "text/plain": [
       "array(['Iris-setosa', 'Iris-setosa', 'Iris-virginica', 'Iris-setosa',\n",
       "       'Iris-virginica', 'Iris-setosa', 'Iris-virginica', 'Iris-setosa',\n",
       "       'Iris-virginica', 'Iris-versicolor', 'Iris-versicolor',\n",
       "       'Iris-virginica', 'Iris-setosa', 'Iris-setosa', 'Iris-setosa',\n",
       "       'Iris-virginica', 'Iris-setosa', 'Iris-versicolor',\n",
       "       'Iris-virginica', 'Iris-setosa', 'Iris-virginica', 'Iris-setosa',\n",
       "       'Iris-versicolor', 'Iris-virginica', 'Iris-setosa',\n",
       "       'Iris-virginica', 'Iris-setosa', 'Iris-virginica',\n",
       "       'Iris-virginica', 'Iris-virginica', 'Iris-setosa',\n",
       "       'Iris-virginica', 'Iris-virginica', 'Iris-versicolor',\n",
       "       'Iris-versicolor', 'Iris-setosa', 'Iris-setosa', 'Iris-setosa',\n",
       "       'Iris-versicolor', 'Iris-versicolor', 'Iris-versicolor',\n",
       "       'Iris-virginica', 'Iris-versicolor', 'Iris-setosa',\n",
       "       'Iris-virginica'], dtype=object)"
      ]
     },
     "execution_count": 34,
     "metadata": {},
     "output_type": "execute_result"
    }
   ],
   "source": [
    "from sklearn.linear_model import LogisticRegression  \n",
    "\n",
    "#針對test\n",
    "lr = LogisticRegression()  \n",
    "lr.fit(X_test_nor, y_test)  \n",
    "pred_y = lr.predict(X_test_nor)  \n",
    "pred_y   "
   ]
  },
  {
   "cell_type": "markdown",
   "metadata": {},
   "source": [
    "# Classification - test"
   ]
  },
  {
   "cell_type": "code",
   "execution_count": 35,
   "metadata": {},
   "outputs": [
    {
     "data": {
      "image/png": "[encoded data removed]",
      "text/plain": [
       "<Figure size 576x432 with 1 Axes>"
      ]
     },
     "metadata": {
      "needs_background": "light"
     },
     "output_type": "display_data"
    }
   ],
   "source": [
    "#使用訓練好的model進來test\n",
    "\n",
    "import matplotlib.pyplot as plt\n",
    "import matplotlib.patches as mpatches\n",
    "%matplotlib inline\n",
    "\n",
    "plt.figure(figsize=(8,6))                              \n",
    "for i in range(len(X_test_nor)):   \n",
    "    if(lr.predict(X_test_nor[i].reshape(1,-1))=='Iris-setosa'):    \n",
    "        plt.plot(X_test['花萼長度'].reset_index(drop=True)[i],X_test['花萼寬度'].reset_index(drop=True)[i],'b.')\n",
    "    elif(lr.predict(X_test_nor[i].reshape(1,-1))=='Iris-versicolor'):\n",
    "        plt.plot(X_test['花萼長度'].reset_index(drop=True)[i],X_test['花萼寬度'].reset_index(drop=True)[i],'gx')\n",
    "    else:\n",
    "        plt.plot(X_test['花萼長度'].reset_index(drop=True)[i],X_test['花萼寬度'].reset_index(drop=True)[i],'r+')\n",
    "        \n",
    "#標註\n",
    "blue_patch = mpatches.Patch(color='blue', label='Iris-setosa')\n",
    "green_patch = mpatches.Patch(color='green', label='Iris-versicolor')\n",
    "red_patch = mpatches.Patch(color='red', label='Iris-virginica')\n",
    "plt.legend(handles=[blue_patch,green_patch,red_patch])        \n",
    "plt.show()    "
   ]
  },
  {
   "cell_type": "code",
   "execution_count": 38,
   "metadata": {},
   "outputs": [],
   "source": [
    "#從上圖的分佈情形來看,以兩欄位feature分類效果可接受"
   ]
  },
  {
   "cell_type": "markdown",
   "metadata": {},
   "source": [
    "# Probability"
   ]
  },
  {
   "cell_type": "code",
   "execution_count": 36,
   "metadata": {},
   "outputs": [
    {
     "data": {
      "text/plain": [
       "array([[0.862, 0.014, 0.123],\n",
       "       [0.802, 0.119, 0.079],\n",
       "       [0.201, 0.204, 0.596],\n",
       "       [0.729, 0.209, 0.062],\n",
       "       [0.129, 0.403, 0.468],\n",
       "       [0.75 , 0.178, 0.072],\n",
       "       [0.225, 0.348, 0.427],\n",
       "       [0.829, 0.095, 0.076],\n",
       "       [0.024, 0.314, 0.662],\n",
       "       [0.324, 0.576, 0.1  ],\n",
       "       [0.217, 0.658, 0.125],\n",
       "       [0.043, 0.327, 0.63 ],\n",
       "       [0.85 , 0.03 , 0.119],\n",
       "       [0.876, 0.086, 0.038],\n",
       "       [0.75 , 0.178, 0.072],\n",
       "       [0.004, 0.463, 0.533],\n",
       "       [0.75 , 0.178, 0.072],\n",
       "       [0.157, 0.46 , 0.383],\n",
       "       [0.001, 0.295, 0.704],\n",
       "       [0.885, 0.037, 0.078],\n",
       "       [0.098, 0.398, 0.504],\n",
       "       [0.797, 0.161, 0.041],\n",
       "       [0.098, 0.606, 0.296],\n",
       "       [0.069, 0.443, 0.489],\n",
       "       [0.91 , 0.054, 0.036],\n",
       "       [0.027, 0.233, 0.74 ],\n",
       "       [0.836, 0.077, 0.087],\n",
       "       [0.008, 0.377, 0.615],\n",
       "       [0.001, 0.357, 0.642],\n",
       "       [0.026, 0.456, 0.518],\n",
       "       [0.769, 0.171, 0.06 ],\n",
       "       [0.069, 0.202, 0.73 ],\n",
       "       [0.317, 0.159, 0.524],\n",
       "       [0.012, 0.51 , 0.478],\n",
       "       [0.431, 0.524, 0.045],\n",
       "       [0.399, 0.319, 0.282],\n",
       "       [0.818, 0.079, 0.103],\n",
       "       [0.885, 0.037, 0.078],\n",
       "       [0.127, 0.61 , 0.263],\n",
       "       [0.105, 0.56 , 0.335],\n",
       "       [0.113, 0.51 , 0.377],\n",
       "       [0.019, 0.444, 0.537],\n",
       "       [0.249, 0.451, 0.3  ],\n",
       "       [0.786, 0.185, 0.03 ],\n",
       "       [0.007, 0.298, 0.695]])"
      ]
     },
     "execution_count": 36,
     "metadata": {},
     "output_type": "execute_result"
    }
   ],
   "source": [
    "#計算各類別概率(test data)\n",
    "import numpy as np\n",
    "np.round(lr.predict_proba(X_test_nor),3)   #根據fit結果predict_proba各類別機率(multinomial reg)"
   ]
  },
  {
   "cell_type": "markdown",
   "metadata": {},
   "source": [
    "# Confusion matrix    (true y, pred y)"
   ]
  },
  {
   "cell_type": "code",
   "execution_count": 39,
   "metadata": {},
   "outputs": [
    {
     "data": {
      "text/plain": [
       "array([[17,  1,  0],\n",
       "       [ 1,  6,  6],\n",
       "       [ 0,  3, 11]], dtype=int64)"
      ]
     },
     "execution_count": 39,
     "metadata": {},
     "output_type": "execute_result"
    }
   ],
   "source": [
    "#畫出混淆矩陣 (metrics module)\n",
    "from sklearn.metrics import confusion_matrix  #metrics與評估有關\n",
    "cnf_matrix = confusion_matrix(y_test, lr.predict(X_test_nor))   \n",
    "cnf_matrix"
   ]
  },
  {
   "cell_type": "markdown",
   "metadata": {},
   "source": [
    "# Plot confusion matrix"
   ]
  },
  {
   "cell_type": "code",
   "execution_count": 42,
   "metadata": {},
   "outputs": [
    {
     "name": "stdout",
     "output_type": "stream",
     "text": [
      "Confusion matrix, without normalization\n",
      "[[17  1  0]\n",
      " [ 1  6  6]\n",
      " [ 0  3 11]]\n"
     ]
    },
    {
     "data": {
      "image/png": "[encoded data removed]",
      "text/plain": [
       "<Figure size 432x288 with 2 Axes>"
      ]
     },
     "metadata": {
      "needs_background": "light"
     },
     "output_type": "display_data"
    }
   ],
   "source": [
    "#先執行最下方plot_confusion_matrix官網作圖\n",
    "import itertools\n",
    "target_names = ['Iris-setosa', 'Iris-versicolor', 'Iris-virginica']\n",
    "plot_confusion_matrix(cnf_matrix, classes=target_names, title='Confusion matrix')\n",
    "plt.show()"
   ]
  },
  {
   "cell_type": "markdown",
   "metadata": {},
   "source": [
    "# Classification report"
   ]
  },
  {
   "cell_type": "code",
   "execution_count": 43,
   "metadata": {},
   "outputs": [
    {
     "name": "stdout",
     "output_type": "stream",
     "text": [
      "                 precision    recall  f1-score   support\n",
      "\n",
      "    Iris-setosa       0.94      0.94      0.94        18\n",
      "Iris-versicolor       0.60      0.46      0.52        13\n",
      " Iris-virginica       0.65      0.79      0.71        14\n",
      "\n",
      "      micro avg       0.76      0.76      0.76        45\n",
      "      macro avg       0.73      0.73      0.73        45\n",
      "   weighted avg       0.75      0.76      0.75        45\n",
      "\n"
     ]
    }
   ],
   "source": [
    "#印出分類效果評估報告\n",
    "from sklearn.metrics import classification_report\n",
    "print(classification_report(y_test, lr.predict(X_test_nor), target_names=target_names))"
   ]
  },
  {
   "cell_type": "code",
   "execution_count": 46,
   "metadata": {},
   "outputs": [],
   "source": [
    "#test data 最後的分類精確度precision不錯"
   ]
  },
  {
   "cell_type": "markdown",
   "metadata": {},
   "source": [
    "# Confusion Metrics（from sklearn官網）"
   ]
  },
  {
   "cell_type": "code",
   "execution_count": 41,
   "metadata": {},
   "outputs": [],
   "source": [
    "#備註\n",
    "def plot_confusion_matrix(cm, classes,\n",
    "                          normalize=False,\n",
    "                          title='Confusion matrix',\n",
    "                          cmap=plt.cm.Blues):\n",
    "    \"\"\"\n",
    "    This function prints and plots the confusion matrix.\n",
    "    Normalization can be applied by setting `normalize=True`.\n",
    "    \"\"\"\n",
    "    plt.imshow(cm, interpolation='nearest', cmap=cmap)\n",
    "    plt.title(title)\n",
    "    plt.colorbar()\n",
    "    tick_marks = np.arange(len(classes))\n",
    "    plt.xticks(tick_marks, classes, rotation=45)\n",
    "    plt.yticks(tick_marks, classes)\n",
    "\n",
    "    if normalize:\n",
    "        cm = cm.astype('float') / cm.sum(axis=1)[:, np.newaxis]\n",
    "        print(\"Normalized confusion matrix\")\n",
    "    else:\n",
    "        print('Confusion matrix, without normalization')\n",
    "\n",
    "    print(cm)\n",
    "\n",
    "    thresh = cm.max() / 2.\n",
    "    for i, j in itertools.product(range(cm.shape[0]), range(cm.shape[1])):\n",
    "        plt.text(j, i, cm[i, j],\n",
    "                 horizontalalignment=\"center\",\n",
    "                 color=\"white\" if cm[i, j] > thresh else \"black\")\n",
    "\n",
    "    plt.tight_layout()\n",
    "    plt.ylabel('True label')\n",
    "    plt.xlabel('Predicted label')\n",
    "    \n",
    "#Source code from: http://scikit-learn.org/stable/auto_examples/model_selection/plot_confusion_matrix.html#sphx-glr-auto-examples-model-selection-plot-confusion-matrix-py"
   ]
  },
  {
   "cell_type": "code",
   "execution_count": null,
   "metadata": {},
   "outputs": [],
   "source": []
  }
 ],
 "metadata": {
  "kernelspec": {
   "display_name": "Python 3",
   "language": "python",
   "name": "python3"
  },
  "language_info": {
   "codemirror_mode": {
    "name": "ipython",
    "version": 3
   },
   "file_extension": ".py",
   "mimetype": "text/x-python",
   "name": "python",
   "nbconvert_exporter": "python",
   "pygments_lexer": "ipython3",
   "version": "3.6.8"
  }
 },
 "nbformat": 4,
 "nbformat_minor": 1
}
